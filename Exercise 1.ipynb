{
 "cells": [
  {
   "cell_type": "code",
   "execution_count": 1,
   "id": "b3cd51a9-c90e-4ae8-90af-d03a9b522dc9",
   "metadata": {},
   "outputs": [],
   "source": [
    "ice_cream_rating = 9\n",
    "sleeping_rating = 8"
   ]
  },
  {
   "cell_type": "code",
   "execution_count": 3,
   "id": "44a9f46d-4bc1-4c91-8120-9d3063ed3eae",
   "metadata": {
    "tags": []
   },
   "outputs": [
    {
     "name": "stdin",
     "output_type": "stream",
     "text": [
      "Enter first name Rahul\n",
      "Enter last name Sehgal\n"
     ]
    }
   ],
   "source": [
    "first_name = input(\"Enter first name\")\n",
    "last_name = input(\"Enter last name\")"
   ]
  },
  {
   "cell_type": "code",
   "execution_count": 6,
   "id": "d88706f5-c0f1-4056-96e5-27284da9b00d",
   "metadata": {},
   "outputs": [],
   "source": [
    "happiness_rating = ( ice_cream_rating + sleeping_rating )/2"
   ]
  },
  {
   "cell_type": "code",
   "execution_count": 13,
   "id": "58e8f991-6057-4c12-ac87-ea87e4955de0",
   "metadata": {},
   "outputs": [
    {
     "data": {
      "text/plain": [
       "float"
      ]
     },
     "execution_count": 13,
     "metadata": {},
     "output_type": "execute_result"
    }
   ],
   "source": [
    "\n",
    "\n",
    "type(happiness_rating)\n"
   ]
  },
  {
   "cell_type": "code",
   "execution_count": 8,
   "id": "76d8f2d8-0a71-4410-bfba-6482f6647c77",
   "metadata": {},
   "outputs": [
    {
     "data": {
      "text/plain": [
       "int"
      ]
     },
     "execution_count": 8,
     "metadata": {},
     "output_type": "execute_result"
    }
   ],
   "source": [
    "type(sleeping_rating)"
   ]
  },
  {
   "cell_type": "code",
   "execution_count": 9,
   "id": "114f814c-2aa4-4994-a449-0ff2230a2f6d",
   "metadata": {},
   "outputs": [
    {
     "data": {
      "text/plain": [
       "int"
      ]
     },
     "execution_count": 9,
     "metadata": {},
     "output_type": "execute_result"
    }
   ],
   "source": [
    "type(ice_cream_rating)"
   ]
  },
  {
   "cell_type": "markdown",
   "id": "0d98da8d-956a-41e0-96a3-799d5b2ea165",
   "metadata": {},
   "source": [
    "The average changed it to float\n"
   ]
  },
  {
   "cell_type": "code",
   "execution_count": 10,
   "id": "60a7347a-a48c-4f73-9c39-183594a1a1f3",
   "metadata": {},
   "outputs": [
    {
     "name": "stdout",
     "output_type": "stream",
     "text": [
      "My name is Rahul and I give eating ice cream a score of 9 out of 10!\n"
     ]
    }
   ],
   "source": [
    "print(\"My name is\", first_name, \"and I give eating ice cream a score of\", ice_cream_rating, \"out of 10!\")"
   ]
  },
  {
   "cell_type": "code",
   "execution_count": 12,
   "id": "9952cb71-0a3a-4d28-acc0-f00fe315872b",
   "metadata": {},
   "outputs": [
    {
     "name": "stdout",
     "output_type": "stream",
     "text": [
      "I am  Rahul Sehgal and my sleeping enjoyment rating is 9 /10!\n"
     ]
    }
   ],
   "source": [
    "print(\"I am \", first_name,last_name, \"and my sleeping enjoyment rating is\", ice_cream_rating,\"/10!\")"
   ]
  },
  {
   "cell_type": "code",
   "execution_count": null,
   "id": "e32131fb-a738-434e-b518-f7703829aa84",
   "metadata": {},
   "outputs": [],
   "source": []
  }
 ],
 "metadata": {
  "kernelspec": {
   "display_name": "Python 3 (ipykernel)",
   "language": "python",
   "name": "python3"
  },
  "language_info": {
   "codemirror_mode": {
    "name": "ipython",
    "version": 3
   },
   "file_extension": ".py",
   "mimetype": "text/x-python",
   "name": "python",
   "nbconvert_exporter": "python",
   "pygments_lexer": "ipython3",
   "version": "3.9.12"
  }
 },
 "nbformat": 4,
 "nbformat_minor": 5
}
